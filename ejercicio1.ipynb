{
 "cells": [
  {
   "cell_type": "markdown",
   "metadata": {},
   "source": [
    "### Laboratorio 3 \n",
    "#### Stefano Aragoni, Carol Arevalo\n",
    "\n",
    "--------\n"
   ]
  },
  {
   "cell_type": "markdown",
   "metadata": {},
   "source": [
    "1. Análisis Exploratorio:\n",
    "Describir la serie de tiempo y visualizarla"
   ]
  },
  {
   "cell_type": "code",
   "execution_count": 7,
   "metadata": {},
   "outputs": [
    {
     "data": {
      "text/html": [
       "<div>\n",
       "<style scoped>\n",
       "    .dataframe tbody tr th:only-of-type {\n",
       "        vertical-align: middle;\n",
       "    }\n",
       "\n",
       "    .dataframe tbody tr th {\n",
       "        vertical-align: top;\n",
       "    }\n",
       "\n",
       "    .dataframe thead th {\n",
       "        text-align: right;\n",
       "    }\n",
       "</style>\n",
       "<table border=\"1\" class=\"dataframe\">\n",
       "  <thead>\n",
       "    <tr style=\"text-align: right;\">\n",
       "      <th></th>\n",
       "      <th>Sales</th>\n",
       "      <th>Year-Month</th>\n",
       "    </tr>\n",
       "  </thead>\n",
       "  <tbody>\n",
       "    <tr>\n",
       "      <th>0</th>\n",
       "      <td>266.0</td>\n",
       "      <td>2001-01</td>\n",
       "    </tr>\n",
       "    <tr>\n",
       "      <th>1</th>\n",
       "      <td>145.9</td>\n",
       "      <td>2002-01</td>\n",
       "    </tr>\n",
       "    <tr>\n",
       "      <th>2</th>\n",
       "      <td>183.1</td>\n",
       "      <td>2003-01</td>\n",
       "    </tr>\n",
       "    <tr>\n",
       "      <th>3</th>\n",
       "      <td>119.3</td>\n",
       "      <td>2004-01</td>\n",
       "    </tr>\n",
       "    <tr>\n",
       "      <th>4</th>\n",
       "      <td>180.3</td>\n",
       "      <td>2005-01</td>\n",
       "    </tr>\n",
       "    <tr>\n",
       "      <th>5</th>\n",
       "      <td>168.5</td>\n",
       "      <td>2006-01</td>\n",
       "    </tr>\n",
       "    <tr>\n",
       "      <th>6</th>\n",
       "      <td>231.8</td>\n",
       "      <td>2007-01</td>\n",
       "    </tr>\n",
       "    <tr>\n",
       "      <th>7</th>\n",
       "      <td>224.5</td>\n",
       "      <td>2008-01</td>\n",
       "    </tr>\n",
       "    <tr>\n",
       "      <th>8</th>\n",
       "      <td>192.8</td>\n",
       "      <td>2009-01</td>\n",
       "    </tr>\n",
       "    <tr>\n",
       "      <th>9</th>\n",
       "      <td>122.9</td>\n",
       "      <td>2010-01</td>\n",
       "    </tr>\n",
       "  </tbody>\n",
       "</table>\n",
       "</div>"
      ],
      "text/plain": [
       "   Sales Year-Month\n",
       "0  266.0    2001-01\n",
       "1  145.9    2002-01\n",
       "2  183.1    2003-01\n",
       "3  119.3    2004-01\n",
       "4  180.3    2005-01\n",
       "5  168.5    2006-01\n",
       "6  231.8    2007-01\n",
       "7  224.5    2008-01\n",
       "8  192.8    2009-01\n",
       "9  122.9    2010-01"
      ]
     },
     "execution_count": 7,
     "metadata": {},
     "output_type": "execute_result"
    }
   ],
   "source": [
    "import pandas as pd\n",
    "import matplotlib.pyplot as plt\n",
    "from darts import TimeSeries\n",
    "\n",
    "# Cargar los datos\n",
    "dataframe = pd.read_csv(\"shampoo.csv\", delimiter=\",\")\n",
    "\n",
    "# Se cambia el formato\n",
    "dataframe[\"Month\"] = pd.to_datetime(dataframe[\"Month\"], format=\"%m-%y\")\n",
    "dataframe[\"Mes\"] = dataframe[\"Month\"].dt.strftime(\"%Y-%m\")\n",
    "dataframe = dataframe.drop(\"Month\", axis=1)\n",
    "\n",
    "dataframe[\"Ventas\"] = dataframe[\"Sales\"].astype(float)\n",
    "\n",
    "dataframe.head(10)\n"
   ]
  },
  {
   "cell_type": "code",
   "execution_count": null,
   "metadata": {},
   "outputs": [],
   "source": [
    "# Cargar la serie de tiempo\n",
    "ts = TimeSeries.from_dataframe(dataframe, 'Year-Month', 'Sales')\n",
    "\n",
    "# Visualizar la serie de tiempo\n",
    "ts.plot(title='Serie de Tiempo')\n",
    "\n",
    "# Realizar descomposición y visualizar componentes\n",
    "ts.decompose().plot()"
   ]
  },
  {
   "cell_type": "markdown",
   "metadata": {},
   "source": [
    "Promedios:\n",
    "• Aplicar métodos de promedios y comparar los resultados con el conjunto original"
   ]
  },
  {
   "cell_type": "code",
   "execution_count": null,
   "metadata": {},
   "outputs": [],
   "source": [
    "from darts.models import NaiveMean, MovingAverage, ExponentialSmoothing\n",
    "\n",
    "# Aplicar promedios móviles\n",
    "naive_mean = NaiveMean()\n",
    "moving_avg = MovingAverage(window=10)\n",
    "exp_smoothing = ExponentialSmoothing()\n",
    "\n",
    "naive_mean.fit(ts)\n",
    "moving_avg.fit(ts)\n",
    "exp_smoothing.fit(ts)\n",
    "\n",
    "# Visualizar resultados\n",
    "ts.plot(label='Original')\n",
    "naive_mean.predict(len(ts)).plot(label='Naive Mean')\n",
    "moving_avg.predict(len(ts)).plot(label='Moving Average')\n",
    "exp_smoothing.predict(len(ts)).plot(label='Exponential Smoothing')\n",
    "plt.legend()\n",
    "plt.show()\n"
   ]
  },
  {
   "cell_type": "markdown",
   "metadata": {},
   "source": [
    "SARIMA:\n",
    "• Identificar parámetros y ajustar un modelo SARIMA"
   ]
  },
  {
   "cell_type": "code",
   "execution_count": null,
   "metadata": {},
   "outputs": [],
   "source": [
    "from darts.models import SARIMA\n",
    "\n",
    "sarima_model = SARIMA(p=1, d=1, q=1, P=1, D=1, Q=1, s=12)\n",
    "sarima_model.fit(ts)\n",
    "sarima_forecast = sarima_model.predict(len(ts))\n",
    "\n",
    "ts.plot(label='Original')\n",
    "sarima_forecast.plot(label='SARIMA Forecast')\n",
    "plt.legend()\n",
    "plt.show()\n"
   ]
  },
  {
   "cell_type": "markdown",
   "metadata": {},
   "source": [
    "Alisamiento Exponencial:\n",
    "• Aplicar diferentes métodos de alisamiento exponencial y comparar."
   ]
  },
  {
   "cell_type": "code",
   "execution_count": null,
   "metadata": {},
   "outputs": [],
   "source": [
    "from darts.models import SimpleExponentialSmoothing, HoltWinters\n",
    "\n",
    "ses = SimpleExponentialSmoothing()\n",
    "holt = Holt()\n",
    "holt_winters = HoltWinters()\n",
    "\n",
    "ses.fit(ts)\n",
    "holt.fit(ts)\n",
    "holt_winters.fit(ts)\n",
    "\n",
    "ts.plot(label='Original')\n",
    "ses.predict(len(ts)).plot(label='Simple Exponential Smoothing')\n",
    "holt.predict(len(ts)).plot(label='Holt')\n",
    "holt_winters.predict(len(ts)).plot(label='Holt-Winters')\n",
    "plt.legend()\n",
    "plt.show()\n"
   ]
  },
  {
   "cell_type": "markdown",
   "metadata": {},
   "source": [
    "Prophet:\n",
    "• Utilizar Prophet para modelar la serie de tiempo."
   ]
  },
  {
   "cell_type": "code",
   "execution_count": null,
   "metadata": {},
   "outputs": [],
   "source": [
    "from fbprophet import Prophet\n",
    "\n",
    "prophet_model = Prophet()\n",
    "df_prophet = ts.pd_dataframe()\n",
    "df_prophet.rename(columns={'fecha': 'ds', 'valor': 'y'}, inplace=True)\n",
    "\n",
    "prophet_model.fit(df_prophet)\n",
    "future = prophet_model.make_future_dataframe(periods=forecast_horizon)\n",
    "forecast = prophet_model.predict(future)\n",
    "\n",
    "prophet_model.plot(forecast)\n",
    "plt.show()\n"
   ]
  },
  {
   "cell_type": "markdown",
   "metadata": {},
   "source": [
    "Redes Neuronales:\n",
    "• Implementar una red neuronal simple para prever la serie de tiempo"
   ]
  },
  {
   "cell_type": "code",
   "execution_count": null,
   "metadata": {},
   "outputs": [],
   "source": [
    "from darts.models import RNNModel\n",
    "from darts.utils.timeseries_generation import gaussian_timeseries\n",
    "\n",
    "# Crear una serie de tiempo sintética (en caso de que no se tenga una serie real)\n",
    "synthetic_ts = gaussian_timeseries(length=len(ts), freq='D', start_ts=ts.time_index[0])\n",
    "\n",
    "rnn_model = RNNModel(input_chunk_length=32, output_chunk_length=10, n_epochs=100)\n",
    "rnn_model.fit(synthetic_ts)\n",
    "rnn_forecast = rnn_model.predict(forecast_horizon)\n",
    "\n",
    "synthetic_ts.plot(label='Sintético')\n",
    "rnn_forecast.plot(label='RNN Forecast')\n",
    "plt.legend()\n",
    "plt.show()\n"
   ]
  },
  {
   "cell_type": "markdown",
   "metadata": {},
   "source": [
    "Comparación y Evaluación:\n",
    "• Usar métricas como RMSE, MAE para comparar los modelos.\n",
    "• Discutir cuál algoritmo se desempeña mejor para cada tipo de conjunto de datos y\n",
    "por qué"
   ]
  },
  {
   "cell_type": "code",
   "execution_count": null,
   "metadata": {},
   "outputs": [],
   "source": [
    "from sklearn.metrics import mean_squared_error, mean_absolute_error\n",
    "\n",
    "# Calcular métricas de evaluación para cada modelo\n",
    "rmse_sarima = mean_squared_error(ts, sarima_forecast, squared=False)\n",
    "mae_sarima = mean_absolute_error(ts, sarima_forecast)\n",
    "\n",
    "rmse_rnn = mean_squared_error(synthetic_ts, rnn_forecast, squared=False)\n",
    "mae_rnn = mean_absolute_error(synthetic_ts, rnn_forecast)\n",
    "\n",
    "# Imprimir resultados\n",
    "print(f'SARIMA RMSE: {rmse_sarima}, SARIMA MAE: {mae_sarima}')\n",
    "print(f'RNN RMSE: {rmse_rnn}, RNN MAE: {mae_rnn}')\n"
   ]
  }
 ],
 "metadata": {
  "kernelspec": {
   "display_name": "Python 3",
   "language": "python",
   "name": "python3"
  },
  "language_info": {
   "codemirror_mode": {
    "name": "ipython",
    "version": 3
   },
   "file_extension": ".py",
   "mimetype": "text/x-python",
   "name": "python",
   "nbconvert_exporter": "python",
   "pygments_lexer": "ipython3",
   "version": "3.9.2"
  },
  "orig_nbformat": 4
 },
 "nbformat": 4,
 "nbformat_minor": 2
}
