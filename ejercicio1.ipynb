{
 "cells": [
  {
   "cell_type": "markdown",
   "metadata": {},
   "source": [
    "### Laboratorio 3 \n",
    "#### Stefano Aragoni, Carol Arevalo\n",
    "\n",
    "--------\n"
   ]
  },
  {
   "cell_type": "markdown",
   "metadata": {},
   "source": [
    "1. Análisis Exploratorio:\n",
    "Describir la serie de tiempo y visualizarla"
   ]
  },
  {
   "cell_type": "code",
   "execution_count": 5,
   "metadata": {},
   "outputs": [
    {
     "name": "stderr",
     "output_type": "stream",
     "text": [
      "AttributeError: 'time_col' is of 'object' dtype but doesn't contain valid timestamps\n"
     ]
    },
    {
     "ename": "AttributeError",
     "evalue": "'time_col' is of 'object' dtype but doesn't contain valid timestamps",
     "output_type": "error",
     "traceback": [
      "\u001b[1;31m---------------------------------------------------------------------------\u001b[0m",
      "\u001b[1;31mOutOfBoundsDatetime\u001b[0m                       Traceback (most recent call last)",
      "File \u001b[1;32mc:\\Users\\carev\\AppData\\Local\\Programs\\Python\\Python311\\Lib\\site-packages\\darts\\timeseries.py:671\u001b[0m, in \u001b[0;36mTimeSeries.from_dataframe\u001b[1;34m(cls, df, time_col, value_cols, fill_missing_dates, freq, fillna_value, static_covariates, hierarchy)\u001b[0m\n\u001b[0;32m    670\u001b[0m \u001b[39mtry\u001b[39;00m:\n\u001b[1;32m--> 671\u001b[0m     time_index \u001b[39m=\u001b[39m pd\u001b[39m.\u001b[39;49mDatetimeIndex(time_col_vals)\n\u001b[0;32m    672\u001b[0m \u001b[39mexcept\u001b[39;00m \u001b[39mValueError\u001b[39;00m:\n",
      "File \u001b[1;32mc:\\Users\\carev\\AppData\\Local\\Programs\\Python\\Python311\\Lib\\site-packages\\pandas\\core\\indexes\\datetimes.py:359\u001b[0m, in \u001b[0;36mDatetimeIndex.__new__\u001b[1;34m(cls, data, freq, tz, normalize, closed, ambiguous, dayfirst, yearfirst, dtype, copy, name)\u001b[0m\n\u001b[0;32m    357\u001b[0m     \u001b[39mreturn\u001b[39;00m \u001b[39mcls\u001b[39m\u001b[39m.\u001b[39m_simple_new(data, name\u001b[39m=\u001b[39mname)\n\u001b[1;32m--> 359\u001b[0m dtarr \u001b[39m=\u001b[39m DatetimeArray\u001b[39m.\u001b[39;49m_from_sequence_not_strict(\n\u001b[0;32m    360\u001b[0m     data,\n\u001b[0;32m    361\u001b[0m     dtype\u001b[39m=\u001b[39;49mdtype,\n\u001b[0;32m    362\u001b[0m     copy\u001b[39m=\u001b[39;49mcopy,\n\u001b[0;32m    363\u001b[0m     tz\u001b[39m=\u001b[39;49mtz,\n\u001b[0;32m    364\u001b[0m     freq\u001b[39m=\u001b[39;49mfreq,\n\u001b[0;32m    365\u001b[0m     dayfirst\u001b[39m=\u001b[39;49mdayfirst,\n\u001b[0;32m    366\u001b[0m     yearfirst\u001b[39m=\u001b[39;49myearfirst,\n\u001b[0;32m    367\u001b[0m     ambiguous\u001b[39m=\u001b[39;49mambiguous,\n\u001b[0;32m    368\u001b[0m )\n\u001b[0;32m    370\u001b[0m subarr \u001b[39m=\u001b[39m \u001b[39mcls\u001b[39m\u001b[39m.\u001b[39m_simple_new(dtarr, name\u001b[39m=\u001b[39mname)\n",
      "File \u001b[1;32mc:\\Users\\carev\\AppData\\Local\\Programs\\Python\\Python311\\Lib\\site-packages\\pandas\\core\\arrays\\datetimes.py:307\u001b[0m, in \u001b[0;36mDatetimeArray._from_sequence_not_strict\u001b[1;34m(cls, data, dtype, copy, tz, freq, dayfirst, yearfirst, ambiguous)\u001b[0m\n\u001b[0;32m    305\u001b[0m freq, freq_infer \u001b[39m=\u001b[39m dtl\u001b[39m.\u001b[39mmaybe_infer_freq(freq)\n\u001b[1;32m--> 307\u001b[0m subarr, tz, inferred_freq \u001b[39m=\u001b[39m _sequence_to_dt64ns(\n\u001b[0;32m    308\u001b[0m     data,\n\u001b[0;32m    309\u001b[0m     dtype\u001b[39m=\u001b[39;49mdtype,\n\u001b[0;32m    310\u001b[0m     copy\u001b[39m=\u001b[39;49mcopy,\n\u001b[0;32m    311\u001b[0m     tz\u001b[39m=\u001b[39;49mtz,\n\u001b[0;32m    312\u001b[0m     dayfirst\u001b[39m=\u001b[39;49mdayfirst,\n\u001b[0;32m    313\u001b[0m     yearfirst\u001b[39m=\u001b[39;49myearfirst,\n\u001b[0;32m    314\u001b[0m     ambiguous\u001b[39m=\u001b[39;49mambiguous,\n\u001b[0;32m    315\u001b[0m )\n\u001b[0;32m    317\u001b[0m freq, freq_infer \u001b[39m=\u001b[39m dtl\u001b[39m.\u001b[39mvalidate_inferred_freq(freq, inferred_freq, freq_infer)\n",
      "File \u001b[1;32mc:\\Users\\carev\\AppData\\Local\\Programs\\Python\\Python311\\Lib\\site-packages\\pandas\\core\\arrays\\datetimes.py:2054\u001b[0m, in \u001b[0;36m_sequence_to_dt64ns\u001b[1;34m(data, dtype, copy, tz, dayfirst, yearfirst, ambiguous, allow_mixed, require_iso8601)\u001b[0m\n\u001b[0;32m   2051\u001b[0m \u001b[39melse\u001b[39;00m:\n\u001b[0;32m   2052\u001b[0m     \u001b[39m# data comes back here as either i8 to denote UTC timestamps\u001b[39;00m\n\u001b[0;32m   2053\u001b[0m     \u001b[39m#  or M8[ns] to denote wall times\u001b[39;00m\n\u001b[1;32m-> 2054\u001b[0m     data, inferred_tz \u001b[39m=\u001b[39m objects_to_datetime64ns(\n\u001b[0;32m   2055\u001b[0m         data,\n\u001b[0;32m   2056\u001b[0m         dayfirst\u001b[39m=\u001b[39;49mdayfirst,\n\u001b[0;32m   2057\u001b[0m         yearfirst\u001b[39m=\u001b[39;49myearfirst,\n\u001b[0;32m   2058\u001b[0m         allow_object\u001b[39m=\u001b[39;49m\u001b[39mFalse\u001b[39;49;00m,\n\u001b[0;32m   2059\u001b[0m         allow_mixed\u001b[39m=\u001b[39;49mallow_mixed,\n\u001b[0;32m   2060\u001b[0m         require_iso8601\u001b[39m=\u001b[39;49mrequire_iso8601,\n\u001b[0;32m   2061\u001b[0m     )\n\u001b[0;32m   2062\u001b[0m     \u001b[39mif\u001b[39;00m tz \u001b[39mand\u001b[39;00m inferred_tz:\n\u001b[0;32m   2063\u001b[0m         \u001b[39m#  two timezones: convert to intended from base UTC repr\u001b[39;00m\n",
      "File \u001b[1;32mc:\\Users\\carev\\AppData\\Local\\Programs\\Python\\Python311\\Lib\\site-packages\\pandas\\core\\arrays\\datetimes.py:2177\u001b[0m, in \u001b[0;36mobjects_to_datetime64ns\u001b[1;34m(data, dayfirst, yearfirst, utc, errors, require_iso8601, allow_object, allow_mixed)\u001b[0m\n\u001b[0;32m   2176\u001b[0m \u001b[39mtry\u001b[39;00m:\n\u001b[1;32m-> 2177\u001b[0m     result, tz_parsed \u001b[39m=\u001b[39m tslib\u001b[39m.\u001b[39;49marray_to_datetime(\n\u001b[0;32m   2178\u001b[0m         data\u001b[39m.\u001b[39;49mravel(\u001b[39m\"\u001b[39;49m\u001b[39mK\u001b[39;49m\u001b[39m\"\u001b[39;49m),\n\u001b[0;32m   2179\u001b[0m         errors\u001b[39m=\u001b[39;49merrors,\n\u001b[0;32m   2180\u001b[0m         utc\u001b[39m=\u001b[39;49mutc,\n\u001b[0;32m   2181\u001b[0m         dayfirst\u001b[39m=\u001b[39;49mdayfirst,\n\u001b[0;32m   2182\u001b[0m         yearfirst\u001b[39m=\u001b[39;49myearfirst,\n\u001b[0;32m   2183\u001b[0m         require_iso8601\u001b[39m=\u001b[39;49mrequire_iso8601,\n\u001b[0;32m   2184\u001b[0m         allow_mixed\u001b[39m=\u001b[39;49mallow_mixed,\n\u001b[0;32m   2185\u001b[0m     )\n\u001b[0;32m   2186\u001b[0m     result \u001b[39m=\u001b[39m result\u001b[39m.\u001b[39mreshape(data\u001b[39m.\u001b[39mshape, order\u001b[39m=\u001b[39morder)\n",
      "File \u001b[1;32mc:\\Users\\carev\\AppData\\Local\\Programs\\Python\\Python311\\Lib\\site-packages\\pandas\\_libs\\tslib.pyx:427\u001b[0m, in \u001b[0;36mpandas._libs.tslib.array_to_datetime\u001b[1;34m()\u001b[0m\n",
      "File \u001b[1;32mc:\\Users\\carev\\AppData\\Local\\Programs\\Python\\Python311\\Lib\\site-packages\\pandas\\_libs\\tslib.pyx:678\u001b[0m, in \u001b[0;36mpandas._libs.tslib.array_to_datetime\u001b[1;34m()\u001b[0m\n",
      "File \u001b[1;32mc:\\Users\\carev\\AppData\\Local\\Programs\\Python\\Python311\\Lib\\site-packages\\pandas\\_libs\\tslib.pyx:674\u001b[0m, in \u001b[0;36mpandas._libs.tslib.array_to_datetime\u001b[1;34m()\u001b[0m\n",
      "File \u001b[1;32mc:\\Users\\carev\\AppData\\Local\\Programs\\Python\\Python311\\Lib\\site-packages\\pandas\\_libs\\tslib.pyx:628\u001b[0m, in \u001b[0;36mpandas._libs.tslib.array_to_datetime\u001b[1;34m()\u001b[0m\n",
      "File \u001b[1;32mc:\\Users\\carev\\AppData\\Local\\Programs\\Python\\Python311\\Lib\\site-packages\\pandas\\_libs\\tslibs\\conversion.pyx:391\u001b[0m, in \u001b[0;36mpandas._libs.tslibs.conversion.convert_datetime_to_tsobject\u001b[1;34m()\u001b[0m\n",
      "File \u001b[1;32mc:\\Users\\carev\\AppData\\Local\\Programs\\Python\\Python311\\Lib\\site-packages\\pandas\\_libs\\tslibs\\np_datetime.pyx:212\u001b[0m, in \u001b[0;36mpandas._libs.tslibs.np_datetime.check_dts_bounds\u001b[1;34m()\u001b[0m\n",
      "\u001b[1;31mOutOfBoundsDatetime\u001b[0m: Out of bounds nanosecond timestamp: 1-01-01 00:00:00 present at position 0",
      "\nDuring handling of the above exception, another exception occurred:\n",
      "\u001b[1;31mAttributeError\u001b[0m                            Traceback (most recent call last)",
      "Cell \u001b[1;32mIn[5], line 10\u001b[0m\n\u001b[0;32m      6\u001b[0m dataframe \u001b[39m=\u001b[39m pd\u001b[39m.\u001b[39mread_csv(\u001b[39m\"\u001b[39m\u001b[39mshampoo.csv\u001b[39m\u001b[39m\"\u001b[39m, delimiter\u001b[39m=\u001b[39m\u001b[39m\"\u001b[39m\u001b[39m,\u001b[39m\u001b[39m\"\u001b[39m)\n\u001b[0;32m      9\u001b[0m \u001b[39m# Cargar la serie de tiempo\u001b[39;00m\n\u001b[1;32m---> 10\u001b[0m ts \u001b[39m=\u001b[39m TimeSeries\u001b[39m.\u001b[39;49mfrom_dataframe(dataframe, \u001b[39m'\u001b[39;49m\u001b[39mMonth\u001b[39;49m\u001b[39m'\u001b[39;49m, \u001b[39m'\u001b[39;49m\u001b[39mSales\u001b[39;49m\u001b[39m'\u001b[39;49m)\n\u001b[0;32m     12\u001b[0m \u001b[39m# Visualizar la serie de tiempo\u001b[39;00m\n\u001b[0;32m     13\u001b[0m ts\u001b[39m.\u001b[39mplot(title\u001b[39m=\u001b[39m\u001b[39m'\u001b[39m\u001b[39mSerie de Tiempo\u001b[39m\u001b[39m'\u001b[39m)\n",
      "File \u001b[1;32mc:\\Users\\carev\\AppData\\Local\\Programs\\Python\\Python311\\Lib\\site-packages\\darts\\timeseries.py:673\u001b[0m, in \u001b[0;36mTimeSeries.from_dataframe\u001b[1;34m(cls, df, time_col, value_cols, fill_missing_dates, freq, fillna_value, static_covariates, hierarchy)\u001b[0m\n\u001b[0;32m    671\u001b[0m         time_index \u001b[39m=\u001b[39m pd\u001b[39m.\u001b[39mDatetimeIndex(time_col_vals)\n\u001b[0;32m    672\u001b[0m     \u001b[39mexcept\u001b[39;00m \u001b[39mValueError\u001b[39;00m:\n\u001b[1;32m--> 673\u001b[0m         raise_log(\n\u001b[0;32m    674\u001b[0m             \u001b[39mAttributeError\u001b[39;49;00m(\n\u001b[0;32m    675\u001b[0m                 \u001b[39m\"\u001b[39;49m\u001b[39m'\u001b[39;49m\u001b[39mtime_col\u001b[39;49m\u001b[39m'\u001b[39;49m\u001b[39m is of \u001b[39;49m\u001b[39m'\u001b[39;49m\u001b[39mobject\u001b[39;49m\u001b[39m'\u001b[39;49m\u001b[39m dtype but doesn\u001b[39;49m\u001b[39m'\u001b[39;49m\u001b[39mt contain valid timestamps\u001b[39;49m\u001b[39m\"\u001b[39;49m\n\u001b[0;32m    676\u001b[0m             )\n\u001b[0;32m    677\u001b[0m         )\n\u001b[0;32m    678\u001b[0m \u001b[39melif\u001b[39;00m np\u001b[39m.\u001b[39missubdtype(time_col_vals\u001b[39m.\u001b[39mdtype, np\u001b[39m.\u001b[39mdatetime64):\n\u001b[0;32m    679\u001b[0m     time_index \u001b[39m=\u001b[39m pd\u001b[39m.\u001b[39mDatetimeIndex(time_col_vals)\n",
      "File \u001b[1;32mc:\\Users\\carev\\AppData\\Local\\Programs\\Python\\Python311\\Lib\\site-packages\\darts\\logging.py:129\u001b[0m, in \u001b[0;36mraise_log\u001b[1;34m(exception, logger)\u001b[0m\n\u001b[0;32m    126\u001b[0m message \u001b[39m=\u001b[39m \u001b[39mstr\u001b[39m(exception)\n\u001b[0;32m    127\u001b[0m logger\u001b[39m.\u001b[39merror(exception_type \u001b[39m+\u001b[39m \u001b[39m\"\u001b[39m\u001b[39m: \u001b[39m\u001b[39m\"\u001b[39m \u001b[39m+\u001b[39m message)\n\u001b[1;32m--> 129\u001b[0m \u001b[39mraise\u001b[39;00m exception\n",
      "\u001b[1;31mAttributeError\u001b[0m: 'time_col' is of 'object' dtype but doesn't contain valid timestamps"
     ]
    }
   ],
   "source": [
    "import pandas as pd\n",
    "import matplotlib.pyplot as plt\n",
    "from darts import TimeSeries\n",
    "\n",
    "# Cargar los datos\n",
    "dataframe = pd.read_csv(\"shampoo.csv\", delimiter=\",\")\n",
    "\n",
    "\n",
    "# Cargar la serie de tiempo\n",
    "ts = TimeSeries.from_dataframe(dataframe, 'Month', 'Sales')\n",
    "\n",
    "# Visualizar la serie de tiempo\n",
    "ts.plot(title='Serie de Tiempo')\n",
    "\n",
    "# Realizar descomposición y visualizar componentes\n",
    "ts.decompose().plot()\n"
   ]
  },
  {
   "cell_type": "markdown",
   "metadata": {},
   "source": [
    "Promedios:\n",
    "• Aplicar métodos de promedios y comparar los resultados con el conjunto original"
   ]
  },
  {
   "cell_type": "code",
   "execution_count": null,
   "metadata": {},
   "outputs": [],
   "source": [
    "from darts.models import NaiveMean, MovingAverage, ExponentialSmoothing\n",
    "\n",
    "# Aplicar promedios móviles\n",
    "naive_mean = NaiveMean()\n",
    "moving_avg = MovingAverage(window=10)\n",
    "exp_smoothing = ExponentialSmoothing()\n",
    "\n",
    "naive_mean.fit(ts)\n",
    "moving_avg.fit(ts)\n",
    "exp_smoothing.fit(ts)\n",
    "\n",
    "# Visualizar resultados\n",
    "ts.plot(label='Original')\n",
    "naive_mean.predict(len(ts)).plot(label='Naive Mean')\n",
    "moving_avg.predict(len(ts)).plot(label='Moving Average')\n",
    "exp_smoothing.predict(len(ts)).plot(label='Exponential Smoothing')\n",
    "plt.legend()\n",
    "plt.show()\n"
   ]
  },
  {
   "cell_type": "markdown",
   "metadata": {},
   "source": [
    "SARIMA:\n",
    "• Identificar parámetros y ajustar un modelo SARIMA"
   ]
  },
  {
   "cell_type": "code",
   "execution_count": null,
   "metadata": {},
   "outputs": [],
   "source": [
    "from darts.models import SARIMA\n",
    "\n",
    "sarima_model = SARIMA(p=1, d=1, q=1, P=1, D=1, Q=1, s=12)\n",
    "sarima_model.fit(ts)\n",
    "sarima_forecast = sarima_model.predict(len(ts))\n",
    "\n",
    "ts.plot(label='Original')\n",
    "sarima_forecast.plot(label='SARIMA Forecast')\n",
    "plt.legend()\n",
    "plt.show()\n"
   ]
  },
  {
   "cell_type": "markdown",
   "metadata": {},
   "source": [
    "Alisamiento Exponencial:\n",
    "• Aplicar diferentes métodos de alisamiento exponencial y comparar."
   ]
  },
  {
   "cell_type": "code",
   "execution_count": null,
   "metadata": {},
   "outputs": [],
   "source": [
    "from darts.models import SimpleExponentialSmoothing, HoltWinters\n",
    "\n",
    "ses = SimpleExponentialSmoothing()\n",
    "holt = Holt()\n",
    "holt_winters = HoltWinters()\n",
    "\n",
    "ses.fit(ts)\n",
    "holt.fit(ts)\n",
    "holt_winters.fit(ts)\n",
    "\n",
    "ts.plot(label='Original')\n",
    "ses.predict(len(ts)).plot(label='Simple Exponential Smoothing')\n",
    "holt.predict(len(ts)).plot(label='Holt')\n",
    "holt_winters.predict(len(ts)).plot(label='Holt-Winters')\n",
    "plt.legend()\n",
    "plt.show()\n"
   ]
  },
  {
   "cell_type": "markdown",
   "metadata": {},
   "source": [
    "Prophet:\n",
    "• Utilizar Prophet para modelar la serie de tiempo."
   ]
  },
  {
   "cell_type": "code",
   "execution_count": null,
   "metadata": {},
   "outputs": [],
   "source": [
    "from fbprophet import Prophet\n",
    "\n",
    "prophet_model = Prophet()\n",
    "df_prophet = ts.pd_dataframe()\n",
    "df_prophet.rename(columns={'fecha': 'ds', 'valor': 'y'}, inplace=True)\n",
    "\n",
    "prophet_model.fit(df_prophet)\n",
    "future = prophet_model.make_future_dataframe(periods=forecast_horizon)\n",
    "forecast = prophet_model.predict(future)\n",
    "\n",
    "prophet_model.plot(forecast)\n",
    "plt.show()\n"
   ]
  },
  {
   "cell_type": "markdown",
   "metadata": {},
   "source": [
    "Redes Neuronales:\n",
    "• Implementar una red neuronal simple para prever la serie de tiempo"
   ]
  },
  {
   "cell_type": "code",
   "execution_count": null,
   "metadata": {},
   "outputs": [],
   "source": [
    "from darts.models import RNNModel\n",
    "from darts.utils.timeseries_generation import gaussian_timeseries\n",
    "\n",
    "# Crear una serie de tiempo sintética (en caso de que no se tenga una serie real)\n",
    "synthetic_ts = gaussian_timeseries(length=len(ts), freq='D', start_ts=ts.time_index[0])\n",
    "\n",
    "rnn_model = RNNModel(input_chunk_length=32, output_chunk_length=10, n_epochs=100)\n",
    "rnn_model.fit(synthetic_ts)\n",
    "rnn_forecast = rnn_model.predict(forecast_horizon)\n",
    "\n",
    "synthetic_ts.plot(label='Sintético')\n",
    "rnn_forecast.plot(label='RNN Forecast')\n",
    "plt.legend()\n",
    "plt.show()\n"
   ]
  },
  {
   "cell_type": "markdown",
   "metadata": {},
   "source": [
    "Comparación y Evaluación:\n",
    "• Usar métricas como RMSE, MAE para comparar los modelos.\n",
    "• Discutir cuál algoritmo se desempeña mejor para cada tipo de conjunto de datos y\n",
    "por qué"
   ]
  },
  {
   "cell_type": "code",
   "execution_count": null,
   "metadata": {},
   "outputs": [],
   "source": [
    "from sklearn.metrics import mean_squared_error, mean_absolute_error\n",
    "\n",
    "# Calcular métricas de evaluación para cada modelo\n",
    "rmse_sarima = mean_squared_error(ts, sarima_forecast, squared=False)\n",
    "mae_sarima = mean_absolute_error(ts, sarima_forecast)\n",
    "\n",
    "rmse_rnn = mean_squared_error(synthetic_ts, rnn_forecast, squared=False)\n",
    "mae_rnn = mean_absolute_error(synthetic_ts, rnn_forecast)\n",
    "\n",
    "# Imprimir resultados\n",
    "print(f'SARIMA RMSE: {rmse_sarima}, SARIMA MAE: {mae_sarima}')\n",
    "print(f'RNN RMSE: {rmse_rnn}, RNN MAE: {mae_rnn}')\n"
   ]
  }
 ],
 "metadata": {
  "kernelspec": {
   "display_name": "Python 3",
   "language": "python",
   "name": "python3"
  },
  "language_info": {
   "codemirror_mode": {
    "name": "ipython",
    "version": 3
   },
   "file_extension": ".py",
   "mimetype": "text/x-python",
   "name": "python",
   "nbconvert_exporter": "python",
   "pygments_lexer": "ipython3",
   "version": "3.11.4"
  },
  "orig_nbformat": 4
 },
 "nbformat": 4,
 "nbformat_minor": 2
}
